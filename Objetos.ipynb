{
 "cells": [
  {
   "cell_type": "markdown",
   "metadata": {},
   "source": [
    "# Objetos en Pandas. Fundamentos"
   ]
  },
  {
   "cell_type": "markdown",
   "metadata": {},
   "source": [
    "## 1. Justificacion de Pandas"
   ]
  },
  {
   "cell_type": "markdown",
   "metadata": {},
   "source": [
    "La biblioteca pandas trata de tomar lo mejor de los tres sistemas que se utilizan en ciencia de datos:\n",
    "1. **Python:** Que tiene como ventajas la flexibilidad pero sin embargo tiene el inconveniente de la lentitud (que es precisamente el precio que se paga por la flexibilidad). Por ejemplo los objetos de tipo *list* en python son muy versatiles porque a diferencia de los arrays de Java son extensibles, ademas pueden albergan cualquier tipo de objeto (string, integerer, otras listas, un diccionario) pero a cambio son costosas computacionalmente ya que lo que alojan son referencias (punteros) a los datos reales (no los propios datos) con lo cual es acceso lleva dos pasos: primero acceder a la direccion y despues acceder desde aqui al dato propiamente dicho\n",
    "2. **Numpy**: Tiene como ventaja la eficiencia a la hora de tratar con valores numericos, ya que los datos se almacenan directamente y de forma contigua. Otra ventaja es que tiene una serie de funciones (ufunc) que realizan estas operaciones de forma vectorizada que es mucho mas eficiente que recorrer el narray con un bucle. Ademas esta operaciones se realizan en C. Sin embargo tiene el inconveniente de que no se pueden utilizar etiquetas de texto en los indices de filas y columnas, lo cual dificulta el trabajo con determinados tipos de tablas\n",
    "3. **R**: Tiene la ventaja precisamente de poder utilizar etiquetas de texto como indice de las filas y las columnas."
   ]
  },
  {
   "cell_type": "markdown",
   "metadata": {},
   "source": [
    "## 2. Principales objetos en Pandas"
   ]
  },
  {
   "cell_type": "markdown",
   "metadata": {},
   "source": [
    "Existen diferentes tipos de objetos en Pandas. Los principales son:\n",
    "1. **Series**\n",
    "2. **DataFrame**"
   ]
  },
  {
   "cell_type": "markdown",
   "metadata": {},
   "source": [
    "### 2.1. Series"
   ]
  },
  {
   "cell_type": "markdown",
   "metadata": {},
   "source": [
    "El objeto de tipo *Series*, es en el fondo una columna de la tabla a la que se le ha añadido una cierta funcionalidad. El objeto de tipo *Series* se construye llamando al constructor que recibe como argumento una secuencia tipo lista o array"
   ]
  },
  {
   "cell_type": "code",
   "execution_count": 1,
   "metadata": {},
   "outputs": [],
   "source": [
    "import pandas as pd\n",
    "import numpy as np"
   ]
  },
  {
   "cell_type": "code",
   "execution_count": 10,
   "metadata": {},
   "outputs": [],
   "source": [
    "lista =  ['manzanas','naranjas', 'peras', 'cerezas']\n",
    "s = pd.Series(lista, name='Frutas')"
   ]
  },
  {
   "cell_type": "code",
   "execution_count": 11,
   "metadata": {},
   "outputs": [
    {
     "data": {
      "text/plain": [
       "0    manzanas\n",
       "1    naranjas\n",
       "2       peras\n",
       "3     cerezas\n",
       "Name: Frutas, dtype: object"
      ]
     },
     "execution_count": 11,
     "metadata": {},
     "output_type": "execute_result"
    }
   ],
   "source": [
    "s"
   ]
  },
  {
   "cell_type": "markdown",
   "metadata": {},
   "source": [
    "Como vemos a la columna se le asocia un indice"
   ]
  },
  {
   "cell_type": "markdown",
   "metadata": {},
   "source": [
    "### 2.2. DataFrame"
   ]
  },
  {
   "cell_type": "markdown",
   "metadata": {},
   "source": [
    "Un objeto de tipo dataframe es como una tabla de excel. Tambien puede entenderse como un conjunto de objetos de tipo *Series* que comparten el mismo indice.\n",
    "En el fondo se trata de un ndarray bidimensional de numpy al que se le hace un wrapper (se le añade un decorador). Este decorador consiste en añadirle un indice que es un objeto del tipo **RangeIndex** y una fila de columnas (que es un objeto del tipo **Index**, de un tipo cuyos elementos son de tipo 'string' (a semejanza del objeto data frame de R o de excel). \n",
    "En realidad no se trata de un solo narray de numpy si no de varios narrays separados, que se denominan **blocks** y que son controlados por un objeto llamado **BlockManager** uno por cada tipo de datos de los que se encuentran en el dataframe. "
   ]
  },
  {
   "cell_type": "code",
   "execution_count": 17,
   "metadata": {},
   "outputs": [],
   "source": [
    "df = pd.DataFrame({'nombre':['Jose','Pedro','Maria'],'edad':[12,23,45],'profesion':['panadero','maestro','medico']})"
   ]
  },
  {
   "cell_type": "code",
   "execution_count": 18,
   "metadata": {},
   "outputs": [
    {
     "data": {
      "text/html": [
       "<div>\n",
       "<style scoped>\n",
       "    .dataframe tbody tr th:only-of-type {\n",
       "        vertical-align: middle;\n",
       "    }\n",
       "\n",
       "    .dataframe tbody tr th {\n",
       "        vertical-align: top;\n",
       "    }\n",
       "\n",
       "    .dataframe thead th {\n",
       "        text-align: right;\n",
       "    }\n",
       "</style>\n",
       "<table border=\"1\" class=\"dataframe\">\n",
       "  <thead>\n",
       "    <tr style=\"text-align: right;\">\n",
       "      <th></th>\n",
       "      <th>nombre</th>\n",
       "      <th>edad</th>\n",
       "      <th>profesion</th>\n",
       "    </tr>\n",
       "  </thead>\n",
       "  <tbody>\n",
       "    <tr>\n",
       "      <th>0</th>\n",
       "      <td>Jose</td>\n",
       "      <td>12</td>\n",
       "      <td>panadero</td>\n",
       "    </tr>\n",
       "    <tr>\n",
       "      <th>1</th>\n",
       "      <td>Pedro</td>\n",
       "      <td>23</td>\n",
       "      <td>maestro</td>\n",
       "    </tr>\n",
       "    <tr>\n",
       "      <th>2</th>\n",
       "      <td>Maria</td>\n",
       "      <td>45</td>\n",
       "      <td>medico</td>\n",
       "    </tr>\n",
       "  </tbody>\n",
       "</table>\n",
       "</div>"
      ],
      "text/plain": [
       "  nombre  edad profesion\n",
       "0   Jose    12  panadero\n",
       "1  Pedro    23   maestro\n",
       "2  Maria    45    medico"
      ]
     },
     "execution_count": 18,
     "metadata": {},
     "output_type": "execute_result"
    }
   ],
   "source": [
    "df.head()"
   ]
  },
  {
   "cell_type": "code",
   "execution_count": 19,
   "metadata": {},
   "outputs": [
    {
     "data": {
      "text/plain": [
       "BlockManager\n",
       "Items: Index(['nombre', 'edad', 'profesion'], dtype='object')\n",
       "Axis 1: RangeIndex(start=0, stop=3, step=1)\n",
       "IntBlock: slice(1, 2, 1), 1 x 3, dtype: int64\n",
       "ObjectBlock: slice(0, 4, 2), 2 x 3, dtype: object"
      ]
     },
     "execution_count": 19,
     "metadata": {},
     "output_type": "execute_result"
    }
   ],
   "source": [
    "df._data"
   ]
  },
  {
   "cell_type": "markdown",
   "metadata": {},
   "source": [
    "Vemos que las cabeceras de las columnas son objetos del tipo **Index** que contienen elementos de tipo *string*, que son los nombres de las cabeceras de las columnas\n",
    "El indice (Axis 1), es un objeto del tipo **RangeIndex** que es un objeto similar al objeto *range*, con la estructura (start,stop,step). De esta manera este objeto (que es similar a un generador) solo se desarrolla cuando se necesita ahorrando espacio en memoria. \n",
    "Por ultimo se muestran los narrays de numpy, uno por cada tipo de dato (en este caso uno para el atributo 'edad' consistente en un entero de 64 bits (IntBlock) y el otro de tipo object (string)(ObjectBlock)). Estos bloques son controlados por el **BlockManager**"
   ]
  },
  {
   "cell_type": "code",
   "execution_count": null,
   "metadata": {
    "slideshow": {
     "slide_type": "slide"
    }
   },
   "outputs": [],
   "source": []
  }
 ],
 "metadata": {
  "kernelspec": {
   "display_name": "Python 3",
   "language": "python",
   "name": "python3"
  },
  "language_info": {
   "codemirror_mode": {
    "name": "ipython",
    "version": 3
   },
   "file_extension": ".py",
   "mimetype": "text/x-python",
   "name": "python",
   "nbconvert_exporter": "python",
   "pygments_lexer": "ipython3",
   "version": "3.8.3"
  }
 },
 "nbformat": 4,
 "nbformat_minor": 4
}
