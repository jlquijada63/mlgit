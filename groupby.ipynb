{
 "cells": [
  {
   "cell_type": "markdown",
   "metadata": {},
   "source": [
    "# Agrupamiento (group by)"
   ]
  },
  {
   "cell_type": "markdown",
   "metadata": {},
   "source": [
    "En el manejo de panda hay una operacion compuesta de tres suboperaciones que se utiliza con mucha frecuencia para resumir los datos:\n",
    "1. **Agrupamiento**\n",
    "1. **Operacion**\n",
    "1. **Agregacion**\n",
    "\n",
    "Para ello se utiliza la funcion **groupby** de pandas.  Esta funcion nos devuelve un objeto de la clase **groupby**. Este objeto es iterable y nos devuelve una tupla. El primer componente de la tupla es el nombre de cada grupo. El segundo componente de la tupla es un objeto de la clase DataFrame con un dataframe para el grupo correspondiente (es decir si hay 10 grupos se forman 10 dataframes). A este objeto se le puede pasar de forma encadenada una funcion de agregacion. Si esta funcion es propia de pandas se puede pasar directamente. Si no es una funcion de pandas (por ejemplo es de numpy o una funcion hecha por el programador), se le pasa como argumento de la funcion **agg(funcion)**"
   ]
  },
  {
   "cell_type": "code",
   "execution_count": 25,
   "metadata": {},
   "outputs": [],
   "source": [
    "import pandas as pd\n",
    "import numpy as np\n",
    "import pickle"
   ]
  },
  {
   "cell_type": "code",
   "execution_count": 26,
   "metadata": {},
   "outputs": [],
   "source": [
    "with open('titanic_df.pkl', 'rb') as f:\n",
    "    df = pickle.load(f)"
   ]
  },
  {
   "cell_type": "code",
   "execution_count": 27,
   "metadata": {},
   "outputs": [],
   "source": [
    "grupos = df.groupby(df.sexo)"
   ]
  },
  {
   "cell_type": "code",
   "execution_count": 28,
   "metadata": {},
   "outputs": [
    {
     "data": {
      "text/plain": [
       "pandas.core.groupby.generic.DataFrameGroupBy"
      ]
     },
     "execution_count": 28,
     "metadata": {},
     "output_type": "execute_result"
    }
   ],
   "source": [
    "type(grupos)"
   ]
  },
  {
   "cell_type": "code",
   "execution_count": 30,
   "metadata": {},
   "outputs": [
    {
     "name": "stdout",
     "output_type": "stream",
     "text": [
      "Grupo:  0\n",
      "     sobrevive  clase  edad  familiares  hijos   tarifa  sexo\n",
      "4            0      3  35.0           0      0   8.0500     0\n",
      "5            0      3  27.0           0      0   8.4583     0\n",
      "6            0      1  54.0           0      0  51.8625     0\n",
      "7            0      3   2.0           3      1  21.0750     0\n",
      "12           0      3  20.0           0      0   8.0500     0\n",
      "..         ...    ...   ...         ...    ...      ...   ...\n",
      "879          0      2  28.0           0      0  10.5000     0\n",
      "880          0      3  25.0           0      0   7.0500     0\n",
      "882          0      2  27.0           0      0  13.0000     0\n",
      "885          1      1  26.0           0      0  30.0000     0\n",
      "886          0      3  32.0           0      0   7.7500     0\n",
      "\n",
      "[572 rows x 7 columns]\n",
      "Grupo:  1\n",
      "     sobrevive  clase  edad  familiares  hijos   tarifa  sexo\n",
      "1            1      1  38.0           1      0  71.2833     1\n",
      "2            1      3  26.0           0      0   7.9250     1\n",
      "3            1      1  35.0           1      0  53.1000     1\n",
      "8            1      3  27.0           0      2  11.1333     1\n",
      "9            1      2  14.0           1      0  30.0708     1\n",
      "..         ...    ...   ...         ...    ...      ...   ...\n",
      "876          1      2  25.0           0      1  26.0000     1\n",
      "878          0      3  22.0           0      0  10.5167     1\n",
      "881          0      3  39.0           0      5  29.1250     1\n",
      "883          1      1  19.0           0      0  30.0000     1\n",
      "884          0      3   7.0           1      2  23.4500     1\n",
      "\n",
      "[314 rows x 7 columns]\n"
     ]
    }
   ],
   "source": [
    "for group, frame in grupos:\n",
    "    print('Grupo: ', group)\n",
    "    print(frame)"
   ]
  },
  {
   "cell_type": "code",
   "execution_count": 33,
   "metadata": {},
   "outputs": [
    {
     "data": {
      "text/html": [
       "<div>\n",
       "<style scoped>\n",
       "    .dataframe tbody tr th:only-of-type {\n",
       "        vertical-align: middle;\n",
       "    }\n",
       "\n",
       "    .dataframe tbody tr th {\n",
       "        vertical-align: top;\n",
       "    }\n",
       "\n",
       "    .dataframe thead th {\n",
       "        text-align: right;\n",
       "    }\n",
       "</style>\n",
       "<table border=\"1\" class=\"dataframe\">\n",
       "  <thead>\n",
       "    <tr style=\"text-align: right;\">\n",
       "      <th></th>\n",
       "      <th>sobrevive</th>\n",
       "      <th>clase</th>\n",
       "      <th>edad</th>\n",
       "      <th>familiares</th>\n",
       "      <th>hijos</th>\n",
       "      <th>tarifa</th>\n",
       "    </tr>\n",
       "    <tr>\n",
       "      <th>sexo</th>\n",
       "      <th></th>\n",
       "      <th></th>\n",
       "      <th></th>\n",
       "      <th></th>\n",
       "      <th></th>\n",
       "      <th></th>\n",
       "    </tr>\n",
       "  </thead>\n",
       "  <tbody>\n",
       "    <tr>\n",
       "      <th>0</th>\n",
       "      <td>0.190559</td>\n",
       "      <td>2.384615</td>\n",
       "      <td>30.446101</td>\n",
       "      <td>0.431818</td>\n",
       "      <td>0.237762</td>\n",
       "      <td>25.666075</td>\n",
       "    </tr>\n",
       "    <tr>\n",
       "      <th>1</th>\n",
       "      <td>0.742038</td>\n",
       "      <td>2.159236</td>\n",
       "      <td>27.719745</td>\n",
       "      <td>0.694268</td>\n",
       "      <td>0.649682</td>\n",
       "      <td>44.479818</td>\n",
       "    </tr>\n",
       "  </tbody>\n",
       "</table>\n",
       "</div>"
      ],
      "text/plain": [
       "      sobrevive     clase       edad  familiares     hijos     tarifa\n",
       "sexo                                                                 \n",
       "0      0.190559  2.384615  30.446101    0.431818  0.237762  25.666075\n",
       "1      0.742038  2.159236  27.719745    0.694268  0.649682  44.479818"
      ]
     },
     "execution_count": 33,
     "metadata": {},
     "output_type": "execute_result"
    }
   ],
   "source": [
    "# aplicamos una operacion de agregacion. En este caso la media\n",
    "grupos = df.groupby('sexo').mean()\n",
    "grupos"
   ]
  },
  {
   "cell_type": "code",
   "execution_count": 34,
   "metadata": {},
   "outputs": [],
   "source": [
    "# Podemos aplicar un funcion que no sea del framework pandas\n",
    "grupos = df.groupby('sexo').agg(np.mean)"
   ]
  },
  {
   "cell_type": "code",
   "execution_count": 35,
   "metadata": {},
   "outputs": [
    {
     "data": {
      "text/html": [
       "<div>\n",
       "<style scoped>\n",
       "    .dataframe tbody tr th:only-of-type {\n",
       "        vertical-align: middle;\n",
       "    }\n",
       "\n",
       "    .dataframe tbody tr th {\n",
       "        vertical-align: top;\n",
       "    }\n",
       "\n",
       "    .dataframe thead th {\n",
       "        text-align: right;\n",
       "    }\n",
       "</style>\n",
       "<table border=\"1\" class=\"dataframe\">\n",
       "  <thead>\n",
       "    <tr style=\"text-align: right;\">\n",
       "      <th></th>\n",
       "      <th>sobrevive</th>\n",
       "      <th>clase</th>\n",
       "      <th>edad</th>\n",
       "      <th>familiares</th>\n",
       "      <th>hijos</th>\n",
       "      <th>tarifa</th>\n",
       "    </tr>\n",
       "    <tr>\n",
       "      <th>sexo</th>\n",
       "      <th></th>\n",
       "      <th></th>\n",
       "      <th></th>\n",
       "      <th></th>\n",
       "      <th></th>\n",
       "      <th></th>\n",
       "    </tr>\n",
       "  </thead>\n",
       "  <tbody>\n",
       "    <tr>\n",
       "      <th>0</th>\n",
       "      <td>0.190559</td>\n",
       "      <td>2.384615</td>\n",
       "      <td>30.446101</td>\n",
       "      <td>0.431818</td>\n",
       "      <td>0.237762</td>\n",
       "      <td>25.666075</td>\n",
       "    </tr>\n",
       "    <tr>\n",
       "      <th>1</th>\n",
       "      <td>0.742038</td>\n",
       "      <td>2.159236</td>\n",
       "      <td>27.719745</td>\n",
       "      <td>0.694268</td>\n",
       "      <td>0.649682</td>\n",
       "      <td>44.479818</td>\n",
       "    </tr>\n",
       "  </tbody>\n",
       "</table>\n",
       "</div>"
      ],
      "text/plain": [
       "      sobrevive     clase       edad  familiares     hijos     tarifa\n",
       "sexo                                                                 \n",
       "0      0.190559  2.384615  30.446101    0.431818  0.237762  25.666075\n",
       "1      0.742038  2.159236  27.719745    0.694268  0.649682  44.479818"
      ]
     },
     "execution_count": 35,
     "metadata": {},
     "output_type": "execute_result"
    }
   ],
   "source": [
    "grupos"
   ]
  },
  {
   "cell_type": "code",
   "execution_count": 46,
   "metadata": {},
   "outputs": [],
   "source": [
    "# o una funcion construida a medidad\n",
    "def restar_dos (grupo):\n",
    "    return (grupo.mean() - 2)"
   ]
  },
  {
   "cell_type": "code",
   "execution_count": 47,
   "metadata": {},
   "outputs": [
    {
     "data": {
      "text/html": [
       "<div>\n",
       "<style scoped>\n",
       "    .dataframe tbody tr th:only-of-type {\n",
       "        vertical-align: middle;\n",
       "    }\n",
       "\n",
       "    .dataframe tbody tr th {\n",
       "        vertical-align: top;\n",
       "    }\n",
       "\n",
       "    .dataframe thead th {\n",
       "        text-align: right;\n",
       "    }\n",
       "</style>\n",
       "<table border=\"1\" class=\"dataframe\">\n",
       "  <thead>\n",
       "    <tr style=\"text-align: right;\">\n",
       "      <th></th>\n",
       "      <th>sobrevive</th>\n",
       "      <th>clase</th>\n",
       "      <th>edad</th>\n",
       "      <th>familiares</th>\n",
       "      <th>hijos</th>\n",
       "      <th>tarifa</th>\n",
       "    </tr>\n",
       "    <tr>\n",
       "      <th>sexo</th>\n",
       "      <th></th>\n",
       "      <th></th>\n",
       "      <th></th>\n",
       "      <th></th>\n",
       "      <th></th>\n",
       "      <th></th>\n",
       "    </tr>\n",
       "  </thead>\n",
       "  <tbody>\n",
       "    <tr>\n",
       "      <th>0</th>\n",
       "      <td>-1.809441</td>\n",
       "      <td>0.384615</td>\n",
       "      <td>28.446101</td>\n",
       "      <td>-1.568182</td>\n",
       "      <td>-1.762238</td>\n",
       "      <td>23.666075</td>\n",
       "    </tr>\n",
       "    <tr>\n",
       "      <th>1</th>\n",
       "      <td>-1.257962</td>\n",
       "      <td>0.159236</td>\n",
       "      <td>25.719745</td>\n",
       "      <td>-1.305732</td>\n",
       "      <td>-1.350318</td>\n",
       "      <td>42.479818</td>\n",
       "    </tr>\n",
       "  </tbody>\n",
       "</table>\n",
       "</div>"
      ],
      "text/plain": [
       "      sobrevive     clase       edad  familiares     hijos     tarifa\n",
       "sexo                                                                 \n",
       "0     -1.809441  0.384615  28.446101   -1.568182 -1.762238  23.666075\n",
       "1     -1.257962  0.159236  25.719745   -1.305732 -1.350318  42.479818"
      ]
     },
     "execution_count": 47,
     "metadata": {},
     "output_type": "execute_result"
    }
   ],
   "source": [
    "df.groupby('sexo').agg(restar_dos)"
   ]
  },
  {
   "cell_type": "markdown",
   "metadata": {},
   "source": [
    "Como ejercicio adicional vamos a ver si existe diferencia significativa en las tarifas pagadas entre los pasajeros que sobrevivieron y los que no. Para ello vamos a llevar a cabo el text t-student"
   ]
  },
  {
   "cell_type": "code",
   "execution_count": 48,
   "metadata": {},
   "outputs": [],
   "source": [
    "from scipy.stats import ttest_ind"
   ]
  },
  {
   "cell_type": "code",
   "execution_count": 49,
   "metadata": {},
   "outputs": [],
   "source": [
    "result = ttest_ind (df['tarifa'][df.sobrevive == 0],df['tarifa'][df.sobrevive==1])"
   ]
  },
  {
   "cell_type": "code",
   "execution_count": 52,
   "metadata": {},
   "outputs": [
    {
     "name": "stdout",
     "output_type": "stream",
     "text": [
      "Ttest_indResult(statistic=-7.869052911142867, pvalue=1.0416165356602257e-14)\n"
     ]
    }
   ],
   "source": [
    "print(result)"
   ]
  },
  {
   "cell_type": "markdown",
   "metadata": {},
   "source": [
    "Evidentemente sobrevivieron mas los pasajeros que pagaron una tarifa mayor"
   ]
  },
  {
   "cell_type": "code",
   "execution_count": null,
   "metadata": {},
   "outputs": [],
   "source": []
  },
  {
   "cell_type": "code",
   "execution_count": null,
   "metadata": {},
   "outputs": [],
   "source": []
  }
 ],
 "metadata": {
  "kernelspec": {
   "display_name": "Python 3",
   "language": "python",
   "name": "python3"
  },
  "language_info": {
   "codemirror_mode": {
    "name": "ipython",
    "version": 3
   },
   "file_extension": ".py",
   "mimetype": "text/x-python",
   "name": "python",
   "nbconvert_exporter": "python",
   "pygments_lexer": "ipython3",
   "version": "3.7.6"
  }
 },
 "nbformat": 4,
 "nbformat_minor": 4
}
